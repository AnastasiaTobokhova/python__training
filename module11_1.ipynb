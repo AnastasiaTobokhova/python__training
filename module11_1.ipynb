{
 "cells": [
  {
   "cell_type": "markdown",
   "id": "311411d3-262e-4231-95e1-3f41a3e66a81",
   "metadata": {},
   "source": [
    "# Домашнее задание модуль 11"
   ]
  },
  {
   "cell_type": "markdown",
   "id": "14cb8ea8-8db8-4374-846a-53e8fced483e",
   "metadata": {},
   "source": [
    "## Обзор сторонних библиотек numpy, pandas, matplotlib"
   ]
  },
  {
   "cell_type": "markdown",
   "id": "257d84ea-2e1e-42db-8856-c0c340ad5114",
   "metadata": {},
   "source": [
    "##  1. NUMPY - создать массив чисел, выполнить математические операции с массивом и вывести результаты в консоль."
   ]
  },
  {
   "cell_type": "code",
   "execution_count": 27,
   "id": "560ea5be-dec5-429c-8e27-7a22934c0c5e",
   "metadata": {},
   "outputs": [
    {
     "data": {
      "text/plain": [
       "array([1, 2, 3, 4])"
      ]
     },
     "execution_count": 27,
     "metadata": {},
     "output_type": "execute_result"
    }
   ],
   "source": [
    "# импорт библиотеки\n",
    "import numpy as np\n",
    "# создание простого одномерного массива с помощью функции array из списка \n",
    "arr = np.array([1,2,3,4])\n",
    "arr"
   ]
  },
  {
   "cell_type": "code",
   "execution_count": 31,
   "id": "c417b9c0-8933-4f97-9d77-c5d01811af03",
   "metadata": {},
   "outputs": [
    {
     "data": {
      "text/plain": [
       "array([1, 2, 3, 4, 5])"
      ]
     },
     "execution_count": 31,
     "metadata": {},
     "output_type": "execute_result"
    }
   ],
   "source": [
    "# создание простого одномерного массива с помощью функции array из кортежа\n",
    "arr = np.array((1,2,3,4,5))\n",
    "arr"
   ]
  },
  {
   "cell_type": "code",
   "execution_count": 45,
   "id": "6de15a84-537c-436a-b0da-af6d6f4c72fe",
   "metadata": {},
   "outputs": [
    {
     "name": "stdout",
     "output_type": "stream",
     "text": [
      "[[0. 0. 0. 0.]\n",
      " [0. 0. 0. 0.]\n",
      " [0. 0. 0. 0.]]\n"
     ]
    }
   ],
   "source": [
    "# нулевой массив\n",
    "zeros = np.zeros((3,4))\n",
    "print(zeros)"
   ]
  },
  {
   "cell_type": "code",
   "execution_count": 47,
   "id": "17cbc5b6-b726-4dda-9359-e4af85283ab8",
   "metadata": {},
   "outputs": [
    {
     "name": "stdout",
     "output_type": "stream",
     "text": [
      "[[1. 1. 1.]\n",
      " [1. 1. 1.]]\n"
     ]
    }
   ],
   "source": [
    "# массив из единиц\n",
    "ones = np.ones((2,3))\n",
    "print(ones)"
   ]
  },
  {
   "cell_type": "code",
   "execution_count": 49,
   "id": "939ec60a-8a59-4cde-8d81-04936c36ae8f",
   "metadata": {},
   "outputs": [
    {
     "name": "stdout",
     "output_type": "stream",
     "text": [
      "[[1. 0. 0. 0.]\n",
      " [0. 1. 0. 0.]\n",
      " [0. 0. 1. 0.]\n",
      " [0. 0. 0. 1.]]\n"
     ]
    }
   ],
   "source": [
    "# \n",
    "eye = np.eye(4)\n",
    "print(eye)"
   ]
  },
  {
   "cell_type": "code",
   "execution_count": 57,
   "id": "42dc6151-2470-4a7f-90c3-fa33c2052459",
   "metadata": {},
   "outputs": [
    {
     "name": "stdout",
     "output_type": "stream",
     "text": [
      "[ 0.   2.5  5.   7.5 10. ]\n"
     ]
    }
   ],
   "source": [
    "# массив с равномернораспредленными числами с функцией np.linspace\n",
    "linespace = np.linspace(0,10,5)\n",
    "print(linespace)"
   ]
  },
  {
   "cell_type": "code",
   "execution_count": 59,
   "id": "d1ea160e-41ca-47f5-9096-94dba2e3e30c",
   "metadata": {},
   "outputs": [
    {
     "name": "stdout",
     "output_type": "stream",
     "text": [
      "[0 3 6 9]\n"
     ]
    }
   ],
   "source": [
    "# массив с числами с заданным диапазоном с функцией np.arange \n",
    "arange = np.arange(0,10,3)\n",
    "print(arange)"
   ]
  },
  {
   "cell_type": "code",
   "execution_count": 70,
   "id": "a0f9d69e-fe0a-47e9-9bde-944ff4e023ea",
   "metadata": {},
   "outputs": [
    {
     "name": "stdout",
     "output_type": "stream",
     "text": [
      "Среднее значение в массиве : 5.0\n",
      "Стандартное отклонение: 2.581988897471611\n",
      "Медиана: 5.0\n",
      "Минимум : 1 Максимум : 9\n"
     ]
    }
   ],
   "source": [
    "# вычисление статистических параметров\n",
    "# создадим массив\n",
    "arr = np.array([1,2,3,4,5,6,7,8,9])\n",
    "arr\n",
    "# вычисление среднего значения в массиве \n",
    "print(f'Среднее значение в массиве : {np.mean(arr)}')\n",
    "# вычисление стандартного отклонения\n",
    "print(f'Стандартное отклонение: {np.std(arr)}')\n",
    "# вычисление медианы\n",
    "print(f'Медиана: {np.median(arr)}')\n",
    "# вычисления минимума и максимума\n",
    "print(f'Минимум : {np.min(arr)} Максимум : {np.max(arr)}')"
   ]
  },
  {
   "cell_type": "markdown",
   "id": "521d20d2-dbf5-40a1-92f3-9e2d7cc19dcf",
   "metadata": {},
   "source": [
    "##  2. PANDAS - считать данные из файла, выполнить простой анализ данных (на своё усмотрение) и вывести результаты в консоль."
   ]
  },
  {
   "cell_type": "code",
   "execution_count": 78,
   "id": "290aec72-4bb4-4004-8ac3-c734c556e428",
   "metadata": {},
   "outputs": [],
   "source": [
    "# импорт pandas\n",
    "import pandas as pd\n",
    "# создание документа (словаря)\n",
    "np.random.seed(42)\n",
    "data = {\n",
    "    \"Имя\": [\"Анна\", \"Борис\", \"Виктор\", \"Галина\", \"Дмитрий\"],\n",
    "    \"Возраст\": np.random.randint(20, 60, 5),\n",
    "    \"Зарплата\": np.random.randint(30000, 150000, 5),\n",
    "    \"Опыт (лет)\": np.random.randint(1, 30, 5),\n",
    "    \"Отдел\": [\"HR\", \"IT\", \"Бухгалтерия\", \"Маркетинг\", \"IT\"]\n",
    "}\n",
    "# преобразование в dataframe\n",
    "df = pd.DataFrame(data)"
   ]
  },
  {
   "cell_type": "code",
   "execution_count": 90,
   "id": "3f5180cf-85b3-4e85-9530-f2c6eaf03db6",
   "metadata": {},
   "outputs": [
    {
     "name": "stdout",
     "output_type": "stream",
     "text": [
      "Медиана зарплаты: 89943.0\n",
      "Корреляция между опытом и зарплатой: -0.17\n"
     ]
    }
   ],
   "source": [
    "# 1 Дополнительный анализ \n",
    "median_salary = df[\"Зарплата\"].median()\n",
    "correlation_experience_salary = df[\"Опыт (лет)\"].corr(df[\"Зарплата\"])\n",
    "\n",
    "print(f\"Медиана зарплаты: {median_salary}\")\n",
    "print(f\"Корреляция между опытом и зарплатой: {correlation_experience_salary:.2f}\")"
   ]
  },
  {
   "cell_type": "code",
   "execution_count": 84,
   "id": "cb7124d9-12f5-401d-b395-8d66107f991e",
   "metadata": {},
   "outputs": [
    {
     "name": "stdout",
     "output_type": "stream",
     "text": [
      "         Имя  Возраст  Зарплата  Опыт (лет)        Отдел Возрастной Класс\n",
      "0       Анна       58     84886          24           HR            51-60\n",
      "1      Борис       48     36265          21           IT            41-50\n",
      "2     Виктор       34    112386           4  Бухгалтерия            31-40\n",
      "3     Галина       27     67194           8    Маркетинг            20-30\n",
      "4    Дмитрий       40    117498          24           IT            31-40\n",
      "5  Екатерина       32     95000          10           HR            31-40\n"
     ]
    }
   ],
   "source": [
    "# 2 Добавляем новую строку и столбец\n",
    "new_row = {\"Имя\": \"Екатерина\", \"Возраст\": 32, \"Зарплата\": 95000, \"Опыт (лет)\": 10, \"Отдел\": \"HR\"}\n",
    "df = pd.concat([df, pd.DataFrame([new_row])], ignore_index=True)\n",
    "df[\"Возрастной Класс\"] = pd.cut(df[\"Возраст\"], bins=[20, 30, 40, 50, 60], labels=[\"20-30\", \"31-40\", \"41-50\", \"51-60\"])\n",
    "print(df)"
   ]
  },
  {
   "cell_type": "code",
   "execution_count": 88,
   "id": "8a9e8847-5813-4ced-859a-3ba582b008a4",
   "metadata": {},
   "outputs": [
    {
     "name": "stdout",
     "output_type": "stream",
     "text": [
      "Данные сохранены в файл: data00.csv\n"
     ]
    }
   ],
   "source": [
    "# 3 Сохраняем в CSV\n",
    "file_path = \"data00.csv\"\n",
    "df.to_csv(file_path, index=False)\n",
    "print(f\"Данные сохранены в файл: {file_path}\")"
   ]
  },
  {
   "cell_type": "markdown",
   "id": "0fb0b927-c446-4fde-9210-a1a3a7b93e42",
   "metadata": {},
   "source": [
    "##  3. MATPLOTLIB - визуализировать данные с помощью библиотеки любым удобным для вас инструментом из библиотеки."
   ]
  },
  {
   "cell_type": "code",
   "execution_count": 95,
   "id": "0517d997-6763-4a9f-adda-0d97bffbfa12",
   "metadata": {},
   "outputs": [
    {
     "data": {
      "image/png": "[encoded data removed]",
      "text/plain": [
       "<Figure size 1000x500 with 1 Axes>"
      ]
     },
     "metadata": {},
     "output_type": "display_data"
    },
    {
     "data": {
      "image/png": "[encoded data removed]",
      "text/plain": [
       "<Figure size 1000x500 with 1 Axes>"
      ]
     },
     "metadata": {},
     "output_type": "display_data"
    }
   ],
   "source": [
    "# импорт matplotlib\n",
    "import matplotlib.pyplot as plt\n",
    "# Распределение зарплат\n",
    "plt.figure(figsize=(10, 5))\n",
    "plt.hist(df[\"Зарплата\"], bins=5, color=\"skyblue\", edgecolor=\"black\")\n",
    "plt.title(\"Распределение зарплат\")\n",
    "plt.xlabel(\"Зарплата\")\n",
    "plt.ylabel(\"Частота\")\n",
    "plt.grid(axis=\"y\", linestyle=\"--\", alpha=0.7)\n",
    "plt.show()\n",
    "\n",
    "# Средний опыт по отделам\n",
    "plt.figure(figsize=(10, 5))\n",
    "df.groupby(\"Отдел\")[\"Опыт (лет)\"].mean().plot(kind=\"bar\", color=\"orange\", edgecolor=\"black\")\n",
    "plt.title(\"Средний опыт по отделам\")\n",
    "plt.xlabel(\"Отдел\")\n",
    "plt.ylabel(\"Средний опыт (лет)\")\n",
    "plt.grid(axis=\"y\", linestyle=\"--\", alpha=0.7)\n",
    "plt.show()"
   ]
  },
  {
   "cell_type": "code",
   "execution_count": null,
   "id": "f931572b-2c65-47d1-86c1-947da723ad44",
   "metadata": {},
   "outputs": [],
   "source": []
  }
 ],
 "metadata": {
  "kernelspec": {
   "display_name": "Python 3 (ipykernel)",
   "language": "python",
   "name": "python3"
  },
  "language_info": {
   "codemirror_mode": {
    "name": "ipython",
    "version": 3
   },
   "file_extension": ".py",
   "mimetype": "text/x-python",
   "name": "python",
   "nbconvert_exporter": "python",
   "pygments_lexer": "ipython3",
   "version": "3.12.7"
  }
 },
 "nbformat": 4,
 "nbformat_minor": 5
}
